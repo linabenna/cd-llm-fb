{
 "cells": [
  {
   "cell_type": "code",
   "execution_count": 40,
   "metadata": {},
   "outputs": [],
   "source": [
    "import warnings\n",
    "warnings.filterwarnings('ignore')"
   ]
  },
  {
   "cell_type": "markdown",
   "metadata": {},
   "source": [
    "### Prompt and image"
   ]
  },
  {
   "cell_type": "code",
   "execution_count": 68,
   "metadata": {},
   "outputs": [
    {
     "data": {
      "text/markdown": [
       "### Are any cyan wheel guns visible?\n",
       "- **a**: true\n",
       "- **b**: false"
      ],
      "text/plain": [
       "<IPython.core.display.Markdown object>"
      ]
     },
     "metadata": {},
     "output_type": "display_data"
    },
    {
     "data": {
      "text/html": [
       "<img src=\"https://s3-eu-north-1-derc-wmi-crowdlabel-placeholder.s3.eu-north-1.amazonaws.com/TII-VQA_F1_000001.png\"/>"
      ],
      "text/plain": [
       "<IPython.core.display.Image object>"
      ]
     },
     "metadata": {},
     "output_type": "display_data"
    }
   ],
   "source": [
    "import requests\n",
    "from IPython.display import Image, display, Markdown\n",
    "\n",
    "# image and prompt endpoint \n",
    "url = \"https://crowdlabel.tii.ae/api/0/tasks/pick\"\n",
    "\n",
    "response = requests.get(url, verify=False) # get json response\n",
    "data = response.json()\n",
    "\n",
    "image_url = data[\"content\"][\"image\"][\"url\"] # image url\n",
    "question = data[\"task\"][\"text\"] # prompt\n",
    "choices = data[\"task\"][\"choices\"] # choices\n",
    "\n",
    "# show prompt and choices\n",
    "question_md = f\"### {question}\\n\" + \"\\n\".join([f\"- **{k}**: {v}\" for k, v in choices.items()])\n",
    "display(Markdown(question_md))\n",
    "\n",
    "# print image\n",
    "display(Image(url=image_url)) "
   ]
  },
  {
   "cell_type": "code",
   "execution_count": 69,
   "metadata": {},
   "outputs": [],
   "source": [
    "from PIL import Image\n",
    "\n",
    "# first let's save the fetched image locally\n",
    "image_path = \"./input_image.jpg\"\n",
    "with open(image_path, \"wb\") as f:\n",
    "    f.write(requests.get(image_url, verify=False).content)"
   ]
  },
  {
   "cell_type": "markdown",
   "metadata": {},
   "source": [
    "### Local LLM Implementation\n",
    "https://www.youtube.com/watch?v=UtSSMs6ObqY"
   ]
  },
  {
   "cell_type": "code",
   "execution_count": 70,
   "metadata": {},
   "outputs": [],
   "source": [
    "#basic test\n",
    "import ollama\n",
    "client = ollama.Client() # initialize client\n",
    "model = \"llava\""
   ]
  },
  {
   "cell_type": "code",
   "execution_count": 73,
   "metadata": {},
   "outputs": [
    {
     "name": "stdout",
     "output_type": "stream",
     "text": [
      "./input_image.jpg Are any cyan wheel guns visible?{'a': 'true', 'b': 'false'}\n",
      " No, there are no cyan wheel guns visible in the image. \n"
     ]
    }
   ],
   "source": [
    "prompt = image_path + \" \" + question + str(choices)\n",
    "print(prompt)\n",
    "prompt = image_path + \" \" + question + str(choices)\n",
    "print(prompt)\n",
    "\n",
    "response = client.generate(model = model, prompt = prompt)\n",
    "print(response.response)\n",
    "response = client.generate(model = model, prompt = prompt)\n",
    "print(response.response)"
   ]
  },
  {
   "cell_type": "code",
   "execution_count": 74,
   "metadata": {},
   "outputs": [
    {
     "name": "stdout",
     "output_type": "stream",
     "text": [
      " b \n"
     ]
    }
   ],
   "source": [
    "prompt = \"Given the image, answer the question by choosing one of the provided options and return the option only\" + image_path + question + str(choices)\n",
    "\n",
    "response = client.generate(model = model, prompt = prompt)\n",
    "print(response.response)"
   ]
  },
  {
   "cell_type": "code",
   "execution_count": 78,
   "metadata": {},
   "outputs": [
    {
     "name": "stdout",
     "output_type": "stream",
     "text": [
      " False. \n"
     ]
    }
   ],
   "source": [
    "prompt = \"Given the image, answer the question by choosing one of the provided options and return the answer only\" + image_path + question + str(choices)\n",
    "\n",
    "response = client.generate(model = model, prompt = prompt)\n",
    "print(response.response)"
   ]
  }
 ],
 "metadata": {
  "kernelspec": {
   "display_name": "Python 3",
   "language": "python",
   "name": "python3"
  },
  "language_info": {
   "codemirror_mode": {
    "name": "ipython",
    "version": 3
   },
   "file_extension": ".py",
   "mimetype": "text/x-python",
   "name": "python",
   "nbconvert_exporter": "python",
   "pygments_lexer": "ipython3",
   "version": "3.12.6"
  }
 },
 "nbformat": 4,
 "nbformat_minor": 2
}
